{
 "cells": [
  {
   "cell_type": "markdown",
   "id": "560d5734-6f85-429d-bda3-5bf079750f02",
   "metadata": {},
   "source": [
    "CONTENT:"
   ]
  },
  {
   "cell_type": "markdown",
   "id": "a2239aa7-feef-45ce-912f-b41e863f5785",
   "metadata": {},
   "source": [
    "========================="
   ]
  },
  {
   "cell_type": "markdown",
   "id": "44f57535-c371-464c-b18e-c28e25639814",
   "metadata": {},
   "source": [
    "DATATYPES"
   ]
  },
  {
   "cell_type": "markdown",
   "id": "9dedbec5-bec9-4e33-909b-da42a6bd1c80",
   "metadata": {},
   "source": [
    "ASSIGNING VARIABLES"
   ]
  },
  {
   "cell_type": "markdown",
   "id": "13184388-1ca5-4578-a5c8-b149e8aebfa6",
   "metadata": {},
   "source": [
    "FUNCTIONS"
   ]
  },
  {
   "cell_type": "markdown",
   "id": "1115c13a-20bd-43da-88f2-7ae19033e040",
   "metadata": {},
   "source": [
    "OPERATORS"
   ]
  },
  {
   "cell_type": "markdown",
   "id": "d9e0b1d2-5fb9-4ea9-8bea-0f8d2cc9ecdc",
   "metadata": {},
   "source": [
    "IMPORTS/LIBERARY MODULES"
   ]
  },
  {
   "cell_type": "markdown",
   "id": "39a25b80-babe-44fc-9c3b-eb07390be540",
   "metadata": {},
   "source": [
    "COMMENTING"
   ]
  },
  {
   "cell_type": "markdown",
   "id": "2ed31eeb-ee3c-42c1-b89c-9bd9f90eead6",
   "metadata": {},
   "source": [
    "=======================================DATATYPES======================================"
   ]
  },
  {
   "cell_type": "markdown",
   "id": "813eac19",
   "metadata": {},
   "source": [
    "Data are units of information.\n",
    "\n",
    "In python datatypes inculde\n",
    "\n",
    "String(str): are characters and words used for reading and are characterized by quotations so any character inside quations \" \" or ' ' is a string even if it is a number inside the string."
   ]
  },
  {
   "cell_type": "markdown",
   "id": "3d49f298",
   "metadata": {},
   "source": [
    "For example:"
   ]
  },
  {
   "cell_type": "code",
   "execution_count": 22,
   "id": "467f972b",
   "metadata": {},
   "outputs": [],
   "source": [
    "x = 'apple'\n",
    "y = '256'\n",
    "z = '2.666'"
   ]
  },
  {
   "cell_type": "markdown",
   "id": "705b639c",
   "metadata": {},
   "source": [
    "Here x, y and z are all strings.\n",
    "\n",
    "Integer(int): are whole numbers that can be used in mathmatical operations(addition, subtraction, multiplication, devision, etc...)."
   ]
  },
  {
   "cell_type": "markdown",
   "id": "de64b4e1",
   "metadata": {},
   "source": [
    "For example:"
   ]
  },
  {
   "cell_type": "code",
   "execution_count": 23,
   "id": "9917fbf5",
   "metadata": {},
   "outputs": [],
   "source": [
    "x = 1\n",
    "y = 5\n",
    "z = 12"
   ]
  },
  {
   "cell_type": "markdown",
   "id": "58523c17",
   "metadata": {},
   "source": [
    "Float(float): are decimal numbers.\n",
    "for example:"
   ]
  },
  {
   "cell_type": "code",
   "execution_count": 24,
   "id": "6c22e2ca",
   "metadata": {},
   "outputs": [],
   "source": [
    "x = 2.5\n",
    "y = 5.0\n",
    "z = .1"
   ]
  },
  {
   "cell_type": "markdown",
   "id": "35c2f5b8",
   "metadata": {},
   "source": [
    "Lists(list): are arrays that can cotain multiple values of different datatypes."
   ]
  },
  {
   "cell_type": "markdown",
   "id": "76601f28",
   "metadata": {},
   "source": [
    "a value in the list is called an element"
   ]
  },
  {
   "cell_type": "markdown",
   "id": "291c90b6",
   "metadata": {},
   "source": [
    "each element have an index"
   ]
  },
  {
   "cell_type": "markdown",
   "id": "7c65ab6d",
   "metadata": {},
   "source": [
    "indecies in list starts from 0"
   ]
  },
  {
   "cell_type": "markdown",
   "id": "0f7924b7",
   "metadata": {},
   "source": [
    "x = [a, b, c]"
   ]
  },
  {
   "cell_type": "markdown",
   "id": "de89e3ac",
   "metadata": {},
   "source": [
    "Index of a is 0"
   ]
  },
  {
   "cell_type": "markdown",
   "id": "695ab03a",
   "metadata": {},
   "source": [
    "Index of b is 1"
   ]
  },
  {
   "cell_type": "markdown",
   "id": "980bf10d",
   "metadata": {},
   "source": [
    "Index of c is 2"
   ]
  },
  {
   "cell_type": "markdown",
   "id": "67f4bf41",
   "metadata": {},
   "source": [
    "Example of a list:"
   ]
  },
  {
   "cell_type": "code",
   "execution_count": 25,
   "id": "fb87a6cb",
   "metadata": {},
   "outputs": [],
   "source": [
    "x = [1, 'a', 20.5, '2']"
   ]
  },
  {
   "cell_type": "markdown",
   "id": "a1a688ad-4197-4713-9467-6ce5bc173590",
   "metadata": {},
   "source": [
    "Boolean: True or False"
   ]
  },
  {
   "cell_type": "code",
   "execution_count": 26,
   "id": "738b9c8f-1a76-4674-bac0-cc060ccbd558",
   "metadata": {},
   "outputs": [],
   "source": [
    "x = True\n",
    "y = False"
   ]
  },
  {
   "cell_type": "markdown",
   "id": "2ee2d39b-e382-4cc2-ab77-26bbd8b0245d",
   "metadata": {},
   "source": [
    "=======================================ASSIGNING VARIABLES======================================"
   ]
  },
  {
   "cell_type": "markdown",
   "id": "b2f6cddf",
   "metadata": {},
   "source": [
    "In python assigning a variable is as easy as equating the the varialbe to its value.\n",
    "\n",
    "For example:"
   ]
  },
  {
   "cell_type": "code",
   "execution_count": 27,
   "id": "0505f7d1",
   "metadata": {},
   "outputs": [],
   "source": [
    "X = 10\n",
    "Y = 20"
   ]
  },
  {
   "cell_type": "markdown",
   "id": "7456e312",
   "metadata": {},
   "source": [
    "Here we gave the variable X a value of 10 and the variable Y a value of 20"
   ]
  },
  {
   "cell_type": "markdown",
   "id": "e742ba93-2105-4f7c-bf15-2a9202b41711",
   "metadata": {},
   "source": [
    "Note:\n",
    "Variables are case sensitive(X =/= x)"
   ]
  },
  {
   "cell_type": "markdown",
   "id": "a5d93907-b6b6-46ab-8119-68a686739cce",
   "metadata": {},
   "source": [
    "=======================================FUNCTIONS======================================"
   ]
  },
  {
   "cell_type": "markdown",
   "id": "be1fc0f5",
   "metadata": {},
   "source": [
    "In order to view the values that we assigned to a certain variable we use the function print()"
   ]
  },
  {
   "cell_type": "markdown",
   "id": "7ddf0362-8e15-4d6f-a0c1-cca775ada875",
   "metadata": {},
   "source": [
    "Note:\n",
    "A function is something that takes input and applies a set of actions to it then returns an output.(in python funtions ends with parenthesis () in which we put the input)"
   ]
  },
  {
   "cell_type": "markdown",
   "id": "a9cd7ef2-7a15-42ac-81ae-b121c8b625ee",
   "metadata": {},
   "source": [
    "like so:"
   ]
  },
  {
   "cell_type": "markdown",
   "id": "f42cc082-a6d0-4293-9f14-b6b79cf50c42",
   "metadata": {},
   "source": [
    "Function(variable)"
   ]
  },
  {
   "cell_type": "markdown",
   "id": "0654838a-decd-43a8-b3be-13e90022370f",
   "metadata": {},
   "source": [
    "Note: when a variable is introduced to function it is called an argument."
   ]
  },
  {
   "cell_type": "markdown",
   "id": "5a6d2afc-f554-47fc-b769-f310e7cfb821",
   "metadata": {},
   "source": [
    "The print() function takes a variable like X and as the name suggests prints its value in the console(output box)"
   ]
  },
  {
   "cell_type": "markdown",
   "id": "137ec91a-7b07-40ea-ab9d-5aea55959a9d",
   "metadata": {},
   "source": [
    "The input() function takes input in console and assigns that input into a varialble(can take a string argument which is shown to the user)"
   ]
  },
  {
   "cell_type": "markdown",
   "id": "e8168f45-a85e-4fb2-99a3-f6f7f8566167",
   "metadata": {},
   "source": [
    "For example:"
   ]
  },
  {
   "cell_type": "code",
   "execution_count": 28,
   "id": "fb7f75cf",
   "metadata": {},
   "outputs": [],
   "source": [
    "x = 10"
   ]
  },
  {
   "cell_type": "code",
   "execution_count": 29,
   "id": "39d3ff2f-cc5d-4060-9496-782ef2e2640a",
   "metadata": {},
   "outputs": [
    {
     "name": "stdout",
     "output_type": "stream",
     "text": [
      "10\n"
     ]
    }
   ],
   "source": [
    "print(x)"
   ]
  },
  {
   "cell_type": "code",
   "execution_count": 30,
   "id": "72de9ac0-5ca5-43e7-a44c-465838436816",
   "metadata": {},
   "outputs": [
    {
     "name": "stdin",
     "output_type": "stream",
     "text": [
      "Hello, write anything here please:  2\n"
     ]
    }
   ],
   "source": [
    "x = input('Hello, write anything here please(and hit enter): ')"
   ]
  },
  {
   "cell_type": "code",
   "execution_count": 31,
   "id": "c0904ed9-568c-4d16-a07c-a16ad02f0fb6",
   "metadata": {},
   "outputs": [
    {
     "name": "stdout",
     "output_type": "stream",
     "text": [
      "2\n"
     ]
    }
   ],
   "source": [
    "print(x)"
   ]
  },
  {
   "cell_type": "markdown",
   "id": "72871d0b-f056-4f33-a857-10843ff61558",
   "metadata": {},
   "source": [
    "Note: reassigning a variable overwrites it."
   ]
  },
  {
   "cell_type": "markdown",
   "id": "d20ab7bb-0cb6-4bdd-8153-bf9b3fd68494",
   "metadata": {},
   "source": [
    "There are also functions that allow us to convert between int, str and float provided that they can be converted."
   ]
  },
  {
   "cell_type": "code",
   "execution_count": 32,
   "id": "e7155986-01e1-4af8-8150-65836ba47f84",
   "metadata": {},
   "outputs": [
    {
     "ename": "TypeError",
     "evalue": "can only concatenate str (not \"int\") to str",
     "output_type": "error",
     "traceback": [
      "\u001b[1;31m---------------------------------------------------------------------------\u001b[0m",
      "\u001b[1;31mTypeError\u001b[0m                                 Traceback (most recent call last)",
      "\u001b[1;32m<ipython-input-32-804feceb7c89>\u001b[0m in \u001b[0;36m<module>\u001b[1;34m\u001b[0m\n\u001b[0;32m      1\u001b[0m \u001b[0mx\u001b[0m \u001b[1;33m=\u001b[0m \u001b[1;34m'10'\u001b[0m\u001b[1;33m\u001b[0m\u001b[1;33m\u001b[0m\u001b[0m\n\u001b[1;32m----> 2\u001b[1;33m \u001b[0my\u001b[0m \u001b[1;33m=\u001b[0m \u001b[0mx\u001b[0m \u001b[1;33m+\u001b[0m \u001b[1;36m2\u001b[0m\u001b[1;33m\u001b[0m\u001b[1;33m\u001b[0m\u001b[0m\n\u001b[0m",
      "\u001b[1;31mTypeError\u001b[0m: can only concatenate str (not \"int\") to str"
     ]
    }
   ],
   "source": [
    "x = '10'\n",
    "y = x + 2"
   ]
  },
  {
   "cell_type": "code",
   "execution_count": null,
   "id": "b8cb4144-f8ab-41b1-85ea-9f5582d40ac2",
   "metadata": {},
   "outputs": [],
   "source": [
    "x = '10'\n",
    "x = int(x)\n",
    "y = x + 2\n",
    "print(y)"
   ]
  },
  {
   "cell_type": "code",
   "execution_count": null,
   "id": "cd195fcd-1462-4408-81c8-209ff2a5fd2a",
   "metadata": {},
   "outputs": [],
   "source": [
    "x = 10\n",
    "print(x)\n",
    "print(float(x))"
   ]
  },
  {
   "cell_type": "code",
   "execution_count": null,
   "id": "036c5e37-211f-47e0-9bc8-13f9e712d7d0",
   "metadata": {},
   "outputs": [],
   "source": [
    "x = 10\n",
    "y = 2.0\n",
    "print(x+y)\n",
    "z = str(x)\n",
    "print(z)\n",
    "print(y+z)"
   ]
  },
  {
   "cell_type": "markdown",
   "id": "bfb50593-dc11-424f-a2fa-f69b5da6d12d",
   "metadata": {},
   "source": [
    "=======================================OPERATORS======================================"
   ]
  },
  {
   "cell_type": "markdown",
   "id": "daae75cb-20a1-4d73-a521-6676712a4de9",
   "metadata": {},
   "source": [
    "As mentioned before we can do arithmetics with numbers(int, float)"
   ]
  },
  {
   "cell_type": "code",
   "execution_count": null,
   "id": "a18ef560-9414-4a88-83f4-992ed73bde77",
   "metadata": {},
   "outputs": [],
   "source": [
    "x = 20"
   ]
  },
  {
   "cell_type": "code",
   "execution_count": null,
   "id": "8a5aade1-e303-43a4-a374-fbbcdbb61bc1",
   "metadata": {},
   "outputs": [],
   "source": [
    "y = 6"
   ]
  },
  {
   "cell_type": "code",
   "execution_count": null,
   "id": "c8b5050b-be33-4082-ad9a-8bca324d6971",
   "metadata": {},
   "outputs": [],
   "source": [
    "z = x + y"
   ]
  },
  {
   "cell_type": "code",
   "execution_count": null,
   "id": "64b0165e-83bf-419d-b8fa-27b63a0d1c79",
   "metadata": {},
   "outputs": [],
   "source": [
    "print(z)"
   ]
  },
  {
   "cell_type": "markdown",
   "id": "7bf9d286-e583-4008-af66-516d95508615",
   "metadata": {},
   "source": [
    "=======================================ARITHMETIC OPERATORS======================================"
   ]
  },
  {
   "cell_type": "markdown",
   "id": "a2583a73-8ddc-411e-a01c-0b5aff07257f",
   "metadata": {},
   "source": [
    "Addition                    (+)"
   ]
  },
  {
   "cell_type": "code",
   "execution_count": null,
   "id": "b13d49e5-725e-47c1-a57c-3b91693208a0",
   "metadata": {},
   "outputs": [],
   "source": [
    "print(x+y)"
   ]
  },
  {
   "cell_type": "markdown",
   "id": "14e0be3f-5d26-454a-8a95-ca13cc71011a",
   "metadata": {},
   "source": [
    "======================"
   ]
  },
  {
   "cell_type": "markdown",
   "id": "cc3fa015-813f-4958-a6dd-1f1ae4e3e8a7",
   "metadata": {},
   "source": [
    "Subtraction                 (-)"
   ]
  },
  {
   "cell_type": "code",
   "execution_count": null,
   "id": "78c4dd46-85bc-41c8-b542-e649cf1a4125",
   "metadata": {},
   "outputs": [],
   "source": [
    "print(x-y)"
   ]
  },
  {
   "cell_type": "markdown",
   "id": "1396a02f-9772-41c0-a858-2bbfdc6ca821",
   "metadata": {},
   "source": [
    "======================"
   ]
  },
  {
   "cell_type": "markdown",
   "id": "d598c73f-67ce-4879-bf60-a2bc8bd1ef68",
   "metadata": {},
   "source": [
    "Multiplication              (*)"
   ]
  },
  {
   "cell_type": "code",
   "execution_count": null,
   "id": "a83d598c-1360-49ba-8929-488cb2dee535",
   "metadata": {},
   "outputs": [],
   "source": [
    "print(x*y)"
   ]
  },
  {
   "cell_type": "markdown",
   "id": "03b463fd-2d55-4884-a2c7-3f28f8010ddb",
   "metadata": {},
   "source": [
    "======================"
   ]
  },
  {
   "cell_type": "markdown",
   "id": "ab139934-1f4d-4cff-8cfa-10168eae911f",
   "metadata": {},
   "source": [
    "Division                    (/)"
   ]
  },
  {
   "cell_type": "code",
   "execution_count": null,
   "id": "9b2e14d2-113f-478a-9728-1af0dbe265e4",
   "metadata": {},
   "outputs": [],
   "source": [
    "print(x/y)"
   ]
  },
  {
   "cell_type": "markdown",
   "id": "10604a44-e208-41ba-9cb9-05600c87a1d0",
   "metadata": {},
   "source": [
    "======================"
   ]
  },
  {
   "cell_type": "markdown",
   "id": "5d3c60e8-8f20-4cce-a475-bb37dc1ed4fe",
   "metadata": {},
   "source": [
    "Modulus(remainder)          (%)"
   ]
  },
  {
   "cell_type": "code",
   "execution_count": null,
   "id": "fa76c91c-6c37-48ea-b021-bea9793fb982",
   "metadata": {},
   "outputs": [],
   "source": [
    "print(x%y)"
   ]
  },
  {
   "cell_type": "markdown",
   "id": "47e78c57-2b10-46fb-ac60-2cab7a530c1f",
   "metadata": {},
   "source": [
    "======================"
   ]
  },
  {
   "cell_type": "markdown",
   "id": "638d7853-d8ca-4d1a-b677-46cbf2acedb1",
   "metadata": {},
   "source": [
    "Exponentiation(power)       (**)"
   ]
  },
  {
   "cell_type": "code",
   "execution_count": null,
   "id": "173014bc-8a58-46e6-8c70-58a20401db93",
   "metadata": {},
   "outputs": [],
   "source": [
    "print(x**y)"
   ]
  },
  {
   "cell_type": "markdown",
   "id": "d5f9896a-aa21-4c10-baef-8a28cc7280e9",
   "metadata": {},
   "source": [
    "======================"
   ]
  },
  {
   "cell_type": "markdown",
   "id": "8250c7e1-3e5b-4b66-b9c9-1101fc4f0b94",
   "metadata": {},
   "source": [
    "Floor division(round down)  (//)"
   ]
  },
  {
   "cell_type": "code",
   "execution_count": null,
   "id": "5a541770-a9bc-4485-bb2d-c56bd513fb77",
   "metadata": {},
   "outputs": [],
   "source": [
    "print(x//y)"
   ]
  },
  {
   "cell_type": "markdown",
   "id": "8c9461a3-26c7-4a64-a452-f52e8b739309",
   "metadata": {},
   "source": [
    "=======================================ASSIGMENT OPERATORS======================================"
   ]
  },
  {
   "cell_type": "markdown",
   "id": "f566fdc2-b541-47e9-b4f9-2f8c055ef7bf",
   "metadata": {},
   "source": [
    "It is posssible to assign a variable to another varible"
   ]
  },
  {
   "cell_type": "code",
   "execution_count": null,
   "id": "d1dd9b1a-57bb-4929-8fb3-9fa87c084ba4",
   "metadata": {},
   "outputs": [],
   "source": [
    "x = 10\n",
    "y = 5\n",
    "x = y\n",
    "print(x, y)"
   ]
  },
  {
   "cell_type": "markdown",
   "id": "df327f02-417e-4584-8034-6226a69be89d",
   "metadata": {},
   "source": [
    "Note: print function can output more than one value seprated by space if in function they were seprated by comma"
   ]
  },
  {
   "cell_type": "markdown",
   "id": "3884e9aa-5efc-4905-8fce-22db760b298a",
   "metadata": {},
   "source": [
    "For example:"
   ]
  },
  {
   "cell_type": "code",
   "execution_count": null,
   "id": "0962b9be-86b4-4c34-81df-16d899f75de9",
   "metadata": {},
   "outputs": [],
   "source": [
    "x = 'a'\n",
    "y = 2\n",
    "z = 'cat'\n",
    "print(x, y, z)"
   ]
  },
  {
   "cell_type": "markdown",
   "id": "e31f48dc-f7de-49d8-9de8-88d5ed3da8d2",
   "metadata": {},
   "source": [
    "It is also possible to assign a varible to itself after change"
   ]
  },
  {
   "cell_type": "code",
   "execution_count": null,
   "id": "f813e715-4082-4739-b66d-d5fc53dee1eb",
   "metadata": {},
   "outputs": [],
   "source": [
    "x = 4\n",
    "x = x + 2\n",
    "print(x)"
   ]
  },
  {
   "cell_type": "markdown",
   "id": "1e6aefcf-c5e1-4d2a-b782-50742a856920",
   "metadata": {},
   "source": [
    "which can be shorten to be written as an assignment operator."
   ]
  },
  {
   "cell_type": "markdown",
   "id": "a3f8d333-3dfd-4735-aec9-6872ec376900",
   "metadata": {},
   "source": [
    "Add-Assign:"
   ]
  },
  {
   "cell_type": "code",
   "execution_count": null,
   "id": "542c0b91-6ca6-4eaf-8c58-adb36310c0d6",
   "metadata": {},
   "outputs": [],
   "source": [
    "x = 4\n",
    "x += 2\n",
    "print(x)"
   ]
  },
  {
   "cell_type": "markdown",
   "id": "d21955ae-4f6f-4b3f-8ad4-b6e26a00f8ca",
   "metadata": {},
   "source": [
    "Subtract-Assign:"
   ]
  },
  {
   "cell_type": "code",
   "execution_count": null,
   "id": "2ea0b453-c7c2-4b3a-98b2-e536c470f99f",
   "metadata": {},
   "outputs": [],
   "source": [
    "x = 4\n",
    "x -= 2\n",
    "print(x)"
   ]
  },
  {
   "cell_type": "markdown",
   "id": "b5eba90d-0226-4cd0-a70f-c8e9e1312b99",
   "metadata": {},
   "source": [
    "Mulitply-Assign:"
   ]
  },
  {
   "cell_type": "code",
   "execution_count": null,
   "id": "d21b56a8-4407-4359-b8b0-e9dc54d1a19d",
   "metadata": {},
   "outputs": [],
   "source": [
    "x = 4\n",
    "x *= 2\n",
    "print(x)"
   ]
  },
  {
   "cell_type": "code",
   "execution_count": null,
   "id": "08a498cc-19b5-4a58-b867-3b2e48db5f3b",
   "metadata": {},
   "outputs": [],
   "source": [
    "x = 4\n",
    "x /= 2\n",
    "print(x)"
   ]
  },
  {
   "cell_type": "markdown",
   "id": "ccfa0d6a-c443-4330-9ffd-931f8ca6296f",
   "metadata": {},
   "source": [
    "etc."
   ]
  },
  {
   "cell_type": "markdown",
   "id": "25d54f78-97d3-4792-a855-4427f0d22b85",
   "metadata": {},
   "source": [
    "Note: all Arithmetic Operators can be writen as an Assignment Operator."
   ]
  },
  {
   "cell_type": "markdown",
   "id": "e8181672-8b64-466f-9964-3215e15130be",
   "metadata": {},
   "source": [
    "+++++++++++++++"
   ]
  },
  {
   "cell_type": "markdown",
   "id": "b775f356-b18b-49f6-afdf-44f8f9dc3eea",
   "metadata": {},
   "source": [
    "The rest of the operators will be discussed in Lec2."
   ]
  },
  {
   "cell_type": "markdown",
   "id": "d5d6d64a-ac9e-437e-b20f-4171a0e69c79",
   "metadata": {},
   "source": [
    "+++++++++++++++"
   ]
  },
  {
   "cell_type": "markdown",
   "id": "121493bf-c21c-4eca-986c-a22a583b4b04",
   "metadata": {},
   "source": [
    "=======================================IMPORTS/LIBERARY MODULES======================================"
   ]
  },
  {
   "cell_type": "markdown",
   "id": "0dbaa7c1-b7ac-4e7e-af52-8253439d7960",
   "metadata": {},
   "source": [
    "liberaries can be thought of as expansion packs for python functions."
   ]
  },
  {
   "cell_type": "markdown",
   "id": "7d63fc80-3751-4513-8eaf-7ca9665fc7ef",
   "metadata": {},
   "source": [
    "Using import"
   ]
  },
  {
   "cell_type": "code",
   "execution_count": null,
   "id": "9cd7e52f-88ca-43ec-877a-8aee3e65bf95",
   "metadata": {},
   "outputs": [],
   "source": [
    "import math\n",
    "pi = math.pi\n",
    "x = math.sin(pi/2)\n",
    "print(x)"
   ]
  },
  {
   "cell_type": "markdown",
   "id": "9ea17e3a-2db6-4c03-b5d1-4e709b15150a",
   "metadata": {},
   "source": [
    "Note:"
   ]
  },
  {
   "cell_type": "markdown",
   "id": "7896cc79-7fb0-427e-b83f-96d06ed7ec95",
   "metadata": {},
   "source": [
    "Here we first imported the math built-in liberary"
   ]
  },
  {
   "cell_type": "markdown",
   "id": "eb358da1-2c93-4956-83b6-1969b5142a9c",
   "metadata": {},
   "source": [
    "and after that to use variable pi we first refer to the module followed by a (.) then the variable or the function need."
   ]
  },
  {
   "cell_type": "markdown",
   "id": "67c5ad6f-1ba1-433c-92f8-c758e0653c6b",
   "metadata": {},
   "source": [
    "module.variable or module.function()"
   ]
  },
  {
   "cell_type": "markdown",
   "id": "30968df9-dd69-4e5f-9a55-e90166bd4ba2",
   "metadata": {},
   "source": [
    "=======================================COMMENTING======================================"
   ]
  },
  {
   "cell_type": "markdown",
   "id": "819ed0b8-5f83-4305-97a8-2211834e9e98",
   "metadata": {},
   "source": [
    "A comment is a piece of code that doesn't run when the script is executed, it exists for noting things in code and for clearifying its function for other people or it can be used as a reminder."
   ]
  },
  {
   "cell_type": "markdown",
   "id": "e511c55c-a8e0-43c2-bbd7-5737dd62e79f",
   "metadata": {},
   "source": [
    "There are 2 ways of commenting."
   ]
  },
  {
   "cell_type": "markdown",
   "id": "d3736fc3-4c06-4486-afb3-c41c3b0bb786",
   "metadata": {},
   "source": [
    "single-line comment:"
   ]
  },
  {
   "cell_type": "markdown",
   "id": "47563815-634c-45db-9bb4-70f687b98a4b",
   "metadata": {},
   "source": [
    "Adding a hashtag(#) in line tells python to ignore the rest of the line."
   ]
  },
  {
   "cell_type": "code",
   "execution_count": null,
   "id": "6ee8f23e-2477-4ae5-92db-789c732c597c",
   "metadata": {},
   "outputs": [],
   "source": [
    "y = 10\n",
    "# y = 5\n",
    "print(y)"
   ]
  },
  {
   "cell_type": "code",
   "execution_count": null,
   "id": "6bc32f1b-7531-4c88-9581-718ba2452246",
   "metadata": {},
   "outputs": [],
   "source": [
    "x = 5 hello\n",
    "print(x)"
   ]
  },
  {
   "cell_type": "code",
   "execution_count": null,
   "id": "5d0cac60-2aff-44f8-a8e6-f8f9ee844871",
   "metadata": {},
   "outputs": [],
   "source": [
    "x = 5 # hello\n",
    "print(x)"
   ]
  },
  {
   "cell_type": "markdown",
   "id": "42d90862-69a2-47b7-8b50-175802241f1c",
   "metadata": {},
   "source": [
    "multi-line comment:"
   ]
  },
  {
   "cell_type": "markdown",
   "id": "39e7d9bc-654e-4298-85fc-053cfe5a4bd2",
   "metadata": {},
   "source": [
    "\"\"\"anything between triple quotations will be commented out\"\"\""
   ]
  },
  {
   "cell_type": "code",
   "execution_count": null,
   "id": "63152bc0-20ee-49ca-a65b-19f78bbdec45",
   "metadata": {},
   "outputs": [],
   "source": [
    "print(1)\n",
    "'''\n",
    "y = 10\n",
    "print(y)\n",
    "'''\n",
    "print(2)\n"
   ]
  },
  {
   "cell_type": "markdown",
   "id": "08a3e12f-f34f-48a8-ab0e-391003e2eb5e",
   "metadata": {},
   "source": [
    "Note:"
   ]
  },
  {
   "cell_type": "markdown",
   "id": "47cc17dd-80bf-4285-adf9-0e952f975fd8",
   "metadata": {},
   "source": [
    "single quotation(') and double(\") are treated the same in python but they but we can't mix and match between them."
   ]
  }
 ],
 "metadata": {
  "kernelspec": {
   "display_name": "Python 3",
   "language": "python",
   "name": "python3"
  },
  "language_info": {
   "codemirror_mode": {
    "name": "ipython",
    "version": 3
   },
   "file_extension": ".py",
   "mimetype": "text/x-python",
   "name": "python",
   "nbconvert_exporter": "python",
   "pygments_lexer": "ipython3",
   "version": "3.9.1"
  }
 },
 "nbformat": 4,
 "nbformat_minor": 5
}
